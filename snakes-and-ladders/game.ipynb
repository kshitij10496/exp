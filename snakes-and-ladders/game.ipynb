{
 "cells": [
  {
   "cell_type": "code",
   "execution_count": 1,
   "id": "1ecd2acd-4e17-4ef9-bd22-797cb826960a",
   "metadata": {},
   "outputs": [],
   "source": [
    "from sympy import Rational\n",
    "from sympy.matrices import Matrix, eye, ones\n",
    "from sympy.interactive.printing import init_printing\n",
    "init_printing(use_unicode=False, wrap_line=False)"
   ]
  },
  {
   "cell_type": "code",
   "execution_count": 2,
   "id": "337d2cae-304d-4ba6-8fe4-e49223dd6a1d",
   "metadata": {},
   "outputs": [],
   "source": [
    "# Transition Probability Matrix as formulated in the video.\n",
    "Q = Matrix([\n",
    "    [0, Rational(1, 6), Rational(1, 6), Rational(1, 6), Rational(1, 6), Rational(1, 6), Rational(1, 6)],\n",
    "    [0, 0, Rational(1, 6), Rational(1, 6), Rational(1, 6), Rational(1, 6), Rational(2, 6)],\n",
    "    [0, 0, Rational(1, 6), Rational(1, 6), Rational(1, 6), Rational(1, 6), Rational(2, 6)],\n",
    "    [0, 0, Rational(1, 6), 0, Rational(1, 6), Rational(1, 6), Rational(2, 6)],\n",
    "    [0, 0, Rational(1, 6), 0, Rational(2, 6), Rational(1, 6), Rational(1, 6)],\n",
    "    [0, 0, Rational(1, 6), 0, 0, Rational(3, 6), Rational(1, 6)],\n",
    "    [0, 0, Rational(1, 6), 0, 0, 0, Rational(4, 6)],\n",
    "])"
   ]
  },
  {
   "cell_type": "code",
   "execution_count": 3,
   "id": "cfe2060a-ffcb-4cd5-b5af-f6e9bbd20603",
   "metadata": {},
   "outputs": [],
   "source": [
    "# Returns the sum of all the elements in the first row of the given matrix.\n",
    "def sum_first_row(M: Matrix) -> float:\n",
    "    A = M[0, :]\n",
    "    B = ones(1, 7)\n",
    "    return A.dot(B).evalf()"
   ]
  },
  {
   "cell_type": "code",
   "execution_count": 6,
   "id": "e627ae4a-57d8-4baf-a0ed-330ec6f70b89",
   "metadata": {},
   "outputs": [],
   "source": [
    "# Returns the expected number of throws for a Snakes and Ladders game, given the transition matrix.\n",
    "def expected_throws(Q: Matrix) -> float:\n",
    "    m, n = Q.shape\n",
    "    I = eye(n)\n",
    "    return sum_first_row((I - Q).inv())"
   ]
  },
  {
   "cell_type": "code",
   "execution_count": 7,
   "id": "870c6fa8-fcf3-4edd-9dfc-ce7ab22f4335",
   "metadata": {},
   "outputs": [
    {
     "data": {
      "text/latex": [
       "$\\displaystyle 8.6$"
      ],
      "text/plain": [
       "8.60000000000000"
      ]
     },
     "execution_count": 7,
     "metadata": {},
     "output_type": "execute_result"
    }
   ],
   "source": [
    "expected_throws(Q)"
   ]
  }
 ],
 "metadata": {
  "kernelspec": {
   "display_name": "Python 3 (ipykernel)",
   "language": "python",
   "name": "python3"
  },
  "language_info": {
   "codemirror_mode": {
    "name": "ipython",
    "version": 3
   },
   "file_extension": ".py",
   "mimetype": "text/x-python",
   "name": "python",
   "nbconvert_exporter": "python",
   "pygments_lexer": "ipython3",
   "version": "3.11.4"
  }
 },
 "nbformat": 4,
 "nbformat_minor": 5
}
